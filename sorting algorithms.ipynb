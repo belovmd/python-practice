{
 "cells": [
  {
   "cell_type": "code",
   "execution_count": 31,
   "metadata": {},
   "outputs": [],
   "source": [
    "def quicksort(A):\n",
    "    if A: \n",
    "        low = [i for i in A[1:] if i < A[0]] \n",
    "        high = [i for i in A[1:] if i >= A[0]]\n",
    "        return quicksort(low) + [A[0]] + quicksort(high)\n",
    "    else: \n",
    "        return A"
   ]
  },
  {
   "cell_type": "code",
   "execution_count": 47,
   "metadata": {},
   "outputs": [],
   "source": [
    "def partition(arr,low,high): \n",
    "    i = ( low-1 )         \n",
    "    pivot = arr[high]    \n",
    "  \n",
    "    for j in range(low , high): \n",
    "        if   arr[j] <= pivot: \n",
    "            i = i+1 \n",
    "            arr[i],arr[j] = arr[j],arr[i] \n",
    "  \n",
    "    arr[i+1],arr[high] = arr[high],arr[i+1] \n",
    "    return ( i+1 ) \n",
    "\n",
    "def quickSort(arr,low,high): \n",
    "    if low < high: \n",
    "\n",
    "        pindx = partition(arr,low,high) \n",
    "        quickSort(arr, low, pindx-1) \n",
    "        quickSort(arr, pindx+1, high) \n",
    "    return arr"
   ]
  },
  {
   "cell_type": "code",
   "execution_count": 49,
   "metadata": {},
   "outputs": [
    {
     "data": {
      "text/plain": [
       "[-6733, 0, 6, 8, 8, 9, 789, 100000]"
      ]
     },
     "execution_count": 49,
     "metadata": {},
     "output_type": "execute_result"
    }
   ],
   "source": [
    "A = [9,8,6,8,0,100000,789,-6733] \n",
    "begin = A[0]\n",
    "end = A[-1]\n",
    "quicksort(A)"
   ]
  },
  {
   "cell_type": "code",
   "execution_count": null,
   "metadata": {},
   "outputs": [],
   "source": [
    "\"\"\"Function mergeSort(A : Array of Element; lo, hi : N)\n",
    "if hi − lo ≤ 1 then return // base case\n",
    "mid := (lo + hi)/2 // middle element\n",
    "mergeSort(lo, mid), mergeSort(mid, hi) // sort halves\n",
    "B := allocate (Array of Element size hi − lo)\n",
    "i := lo, j := mid, k := 1 // running indexes\n",
    "while (i < mid) & (j < hi)\n",
    "if A[i] < A[j] B[k++] := A[i++] // merge!\n",
    "else B[k++] := A[j++]\n",
    "endwhile\n",
    "while i < mid do B[k++] := A[i++] // copy remainder\n",
    "while j < hi do B[k++] := A[j++]\n",
    "A[lo, . . . , hi − 1] := B[1, . . . ,(hi − lo)] // copy back\n",
    "dispose (B)\n",
    "\"\"\""
   ]
  },
  {
   "cell_type": "code",
   "execution_count": 44,
   "metadata": {},
   "outputs": [],
   "source": [
    "def mergesort(alist):\n",
    "    if len(alist) <= 1:\n",
    "        return alist\n",
    "    else:\n",
    "        mid = len(alist) // 2\n",
    "        lefthalf = alist[:mid]\n",
    "        righthalf = alist[mid:]\n",
    "\n",
    "        mergesort(lefthalf)\n",
    "        mergesort(righthalf)\n",
    "        i = 0\n",
    "        j = 0\n",
    "        k = 0\n",
    "        while i < len(lefthalf) and j < len(righthalf):\n",
    "            if lefthalf[i] < righthalf[j]:\n",
    "                alist[k]=lefthalf[i]\n",
    "                k+=1\n",
    "                i+=1\n",
    "            else:\n",
    "                alist[k]=righthalf[j]\n",
    "                k+=1\n",
    "                j+=1\n",
    "        while i < len(lefthalf):\n",
    "            alist[k]=lefthalf[i]\n",
    "            k+=1\n",
    "            i+=1\n",
    "        while j < len(righthalf):\n",
    "            alist[k]=righthalf[j]\n",
    "            k+=1\n",
    "            j+=1\n",
    "            \n",
    "        print(\"Merging \",alist)"
   ]
  },
  {
   "cell_type": "code",
   "execution_count": 46,
   "metadata": {},
   "outputs": [
    {
     "name": "stdout",
     "output_type": "stream",
     "text": [
      "Merging  [0, 9]\n",
      "Merging  [7, 34]\n",
      "Merging  [0, 7, 9, 34]\n",
      "Merging  [90, 876]\n",
      "Merging  [-98, -7]\n",
      "Merging  [-98, -7, 90, 876]\n",
      "Merging  [-98, -7, 0, 7, 9, 34, 90, 876]\n",
      "[-98, -7, 0, 7, 9, 34, 90, 876]\n"
     ]
    }
   ],
   "source": [
    "A = [0,9,7,34,90,876,-98, -7]\n",
    "mergesort(A)\n",
    "print(A)"
   ]
  },
  {
   "cell_type": "code",
   "execution_count": null,
   "metadata": {},
   "outputs": [],
   "source": []
  }
 ],
 "metadata": {
  "kernelspec": {
   "display_name": "Python 3",
   "language": "python",
   "name": "python3"
  },
  "language_info": {
   "codemirror_mode": {
    "name": "ipython",
    "version": 3
   },
   "file_extension": ".py",
   "mimetype": "text/x-python",
   "name": "python",
   "nbconvert_exporter": "python",
   "pygments_lexer": "ipython3",
   "version": "3.7.0"
  }
 },
 "nbformat": 4,
 "nbformat_minor": 2
}
