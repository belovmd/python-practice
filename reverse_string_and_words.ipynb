{
  "nbformat": 4,
  "nbformat_minor": 0,
  "metadata": {
    "colab": {
      "name": "reverse string and words.ipynb",
      "version": "0.3.2",
      "provenance": [],
      "include_colab_link": true
    },
    "kernelspec": {
      "name": "python3",
      "display_name": "Python 3"
    }
  },
  "cells": [
    {
      "cell_type": "markdown",
      "metadata": {
        "id": "view-in-github",
        "colab_type": "text"
      },
      "source": [
        "<a href=\"https://colab.research.google.com/github/zzappa/python-practice/blob/master/reverse_string_and_words.ipynb\" target=\"_parent\"><img src=\"https://colab.research.google.com/assets/colab-badge.svg\" alt=\"Open In Colab\"/></a>"
      ]
    },
    {
      "metadata": {
        "id": "D0wrtH1iUcnR",
        "colab_type": "text"
      },
      "cell_type": "markdown",
      "source": [
        "reverse string"
      ]
    },
    {
      "metadata": {
        "id": "_dxHBHKiUNhE",
        "colab_type": "code",
        "colab": {}
      },
      "cell_type": "code",
      "source": [
        "def reverseString(my_string):\n",
        "  if len(my_string) <=1:\n",
        "    return my_string\n",
        "  else:\n",
        "    return my_string[-1] + reverseString(my_string[:-1])"
      ],
      "execution_count": 0,
      "outputs": []
    },
    {
      "metadata": {
        "id": "QvWm9w_GVY9X",
        "colab_type": "code",
        "colab": {}
      },
      "cell_type": "code",
      "source": [
        "def reverseWords(my_string):\n",
        "  current_word = ''\n",
        "  result = ''\n",
        "  for char in string:\n",
        "    if char == ' ':\n",
        "      if not current_word == '':\n",
        "        result += reverseString(current_word)\n",
        "        current_word = ''\n",
        "      result += char\n",
        "    else:\n",
        "      current_word += char\n",
        "  result += reverseString(current_word)\n",
        "  return result\n",
        "        "
      ],
      "execution_count": 0,
      "outputs": []
    },
    {
      "metadata": {
        "id": "UrDrnMbnU7Ne",
        "colab_type": "code",
        "colab": {}
      },
      "cell_type": "code",
      "source": [
        "string = \"Python is an interpreted, high-level, general-purpose programming language\""
      ],
      "execution_count": 0,
      "outputs": []
    },
    {
      "metadata": {
        "id": "UqqsXE6fVIf5",
        "colab_type": "code",
        "colab": {
          "base_uri": "https://localhost:8080/",
          "height": 34
        },
        "outputId": "26f471f9-818b-459e-968c-58aa28fd5d54"
      },
      "cell_type": "code",
      "source": [
        "print(reverseString(string))"
      ],
      "execution_count": 3,
      "outputs": [
        {
          "output_type": "stream",
          "text": [
            "egaugnal gnimmargorp esoprup-lareneg ,level-hgih ,deterpretni na si nohtyP\n"
          ],
          "name": "stdout"
        }
      ]
    },
    {
      "metadata": {
        "id": "Wl6rLVbdVL5F",
        "colab_type": "code",
        "colab": {
          "base_uri": "https://localhost:8080/",
          "height": 34
        },
        "outputId": "d1fcfcb2-faf2-4610-c468-deb06a98f13b"
      },
      "cell_type": "code",
      "source": [
        "print(reverseWords(string))"
      ],
      "execution_count": 9,
      "outputs": [
        {
          "output_type": "stream",
          "text": [
            "nohtyP si na ,deterpretni ,level-hgih esoprup-lareneg gnimmargorp egaugnal\n"
          ],
          "name": "stdout"
        }
      ]
    },
    {
      "metadata": {
        "id": "E1e4SepBWk99",
        "colab_type": "code",
        "colab": {}
      },
      "cell_type": "code",
      "source": [
        ""
      ],
      "execution_count": 0,
      "outputs": []
    }
  ]
}